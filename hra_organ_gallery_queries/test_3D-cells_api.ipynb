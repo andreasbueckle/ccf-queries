{
 "cells": [
  {
   "cell_type": "code",
   "execution_count": 3,
   "metadata": {},
   "outputs": [
    {
     "name": "stdout",
     "output_type": "stream",
     "text": [
      "x,y,z,Cell Type\n",
      "0.0538392,0.277459,-0.0988273,KEY1\n",
      "0.0528757,0.255119,-0.104997,KEY2\n",
      "0.064908,0.279738,-0.111117,KEY2\n",
      "0.0539551,0.280164,-0.0985533,KEY2\n",
      "\n"
     ]
    }
   ],
   "source": [
    "import requests\n",
    "import json\n",
    "\n",
    "url = 'https://apfvtab7fp.us-east-2.awsapprunner.com/mesh-3d-cell-population'\n",
    "\n",
    "with open('input/test-request.json') as f:\n",
    "    data = json.load(f)\n",
    "\n",
    "myobj = {'somekey': 'somevalue'}\n",
    "\n",
    "x = requests.post(url, json=data)\n",
    "\n",
    "print(x.text)"
   ]
  }
 ],
 "metadata": {
  "kernelspec": {
   "display_name": "Python 3",
   "language": "python",
   "name": "python3"
  },
  "language_info": {
   "codemirror_mode": {
    "name": "ipython",
    "version": 3
   },
   "file_extension": ".py",
   "mimetype": "text/x-python",
   "name": "python",
   "nbconvert_exporter": "python",
   "pygments_lexer": "ipython3",
   "version": "3.11.9"
  }
 },
 "nbformat": 4,
 "nbformat_minor": 2
}
